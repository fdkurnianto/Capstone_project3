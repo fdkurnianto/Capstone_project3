{
  "cells": [
    {
      "attachments": {},
      "cell_type": "markdown",
      "metadata": {
        "id": "XLmmP-umk-Az"
      },
      "source": [
        "### **Contents**\n",
        "\n",
        "0. Initial Setup\n",
        "1. Business Problem Understanding\n",
        "2. Data Understanding\n",
        "3. Data Preprocessing\n",
        "4. Modeling\n",
        "5. Conclusion\n",
        "6. Recommendation\n",
        "\n",
        "****"
      ]
    },
    {
      "attachments": {},
      "cell_type": "markdown",
      "metadata": {},
      "source": [
        "### `Initial Setup`"
      ]
    },
    {
      "cell_type": "code",
      "execution_count": 4,
      "metadata": {},
      "outputs": [],
      "source": [
        "# Import library eksplorasi dataset\n",
        "import pandas as pd\n",
        "import numpy as np\n",
        "import matplotlib.pyplot as plt\n",
        "import seaborn as sns\n",
        "\n",
        "# Import library modeling\n",
        "\n",
        "\n",
        "import warnings\n",
        "warnings.filterwarnings('ignore')"
      ]
    },
    {
      "attachments": {},
      "cell_type": "markdown",
      "metadata": {
        "id": "4AfFAHobk-A1"
      },
      "source": [
        "### `Business Problem Understanding`"
      ]
    },
    {
      "attachments": {},
      "cell_type": "markdown",
      "metadata": {
        "id": "4-oTdPw1k-A2"
      },
      "source": [
        "#### **Problem Statement**\n",
        "\n",
        "##### **Stakeholder** \n",
        "   - Bank's Marketing Manager \n",
        "   - Bank's Marketing Team.\n",
        "\n",
        "##### **Problem**\n",
        "   \n",
        "   Permasalahan dari analisis ini terkait deposito nasabah. Deposito merupakan salah satu produk dari bank di mana nasabah akan menyimpan uangnya di bank, namun untuk mencairkannya harus sesuai dengan jangka waktu yang telah ditentukan di awal. Sebagai konsekuensinya, nasabah akan mendapatkan bunga yang dilihat dari total uang yang didepositokan\n",
        "\n",
        "   Sebagai lembaga keuangan, bank tidak boleh kehilangan nasabah deposito karena dapat mengurangi aset pada bank. Selain itu, bank juga harus mencari nasabah lain untuk membuka rekening deposito. Ketika jumlah saldo deposito meningkat, maka meningkatkan juga nominal pinjaman yang dapat diberikan kepada nasabah. Dan bank akan mendapatkan keuntungan dari bunga pinjaman tersebut. Sehingga dapat dikatakan ketika saldo deposito meningkat juga dapat meningkatkan keuntungan dari bank.\n",
        "   \n",
        "   Untuk sampai saat ini, pihak bank masih menilai secara manual akan nasabah yang diprediksi inginmembuka rekning deposito dan tidak ingin membuka rekening deposito. Hal ini dinilai kurang efektif dan efisien dikarenakan kompleksitas, tingkat akurasi serta waktu yang dibutuhkan. Dari analisis ini, pihak bank ingin mencari kategori kandidat calon nasabah yang diprediksi ingin membuka rekening deposito.\n",
        "\n",
        "    \n"
      ]
    },
    {
      "attachments": {},
      "cell_type": "markdown",
      "metadata": {
        "id": "RdtbYxCck-A3"
      },
      "source": [
        "**Goals**\n",
        "\n",
        "Dilihat dari permasalahannya, pihak bank ingin mencari kategori kandidat calon nasabah yang ingin melakukan deposito. Sehingga marketing yang akan dilakukan dapat fokus terhadap calon nasabah yang potensial (nasabah yang ingin membuka rekening deposito) untuk membuka deposito. \n",
        "\n",
        "Untuk itu, pihak bank ingin mengetahui faktor-faktor/variabel apa saja yang dimiliki atau mempengaruhi seseorang agar ingin membuka rekening deposito atau tidak. Sehingga, pihak bank bisa mendekati kategori nasabah yang sesuai untuk membuka rekening deposito. "
      ]
    },
    {
      "attachments": {},
      "cell_type": "markdown",
      "metadata": {
        "id": "cL9ZaGMtk-A4"
      },
      "source": [
        "**Analytic Approach**\n",
        "\n",
        "Kita akan menganalisis data untuk mencari pola yang bisa membedakan kategori nasabah yang ingin membuka deposito atau tidak.\n",
        "\n",
        "Selannjutnya, kita akan membangun model klasifikasi yang akan membantu pihak bank untuk memprediksi probabilitas nasabah ingin membuka rekening deposito atau tidak. "
      ]
    },
    {
      "attachments": {},
      "cell_type": "markdown",
      "metadata": {
        "id": "kRzB4C33k-A5"
      },
      "source": [
        "**Metric Evaluation**\n",
        "\n",
        "Target dari analisis dapat kita kategorikan:\n",
        "\n",
        "0 : no (tidak ingin membuka rekening deposito)\n",
        "<br>\n",
        "1 : yes (ingin membuka rekening deposito)\n",
        "\n",
        "**Type I Eror | False Positif**\n",
        "\n",
        "Kondisi di mana nasabah terprediksi ingin membuka rekening deposito padahal kenyataannya tidak ingin membuka rekening deposito\n",
        "**Konsekuensi** : Marketing yang dilakukan bank akan cenderung sia-sia karena tidak tepat sasaran\n",
        "\n",
        "**Type II Eror | False Negatif**\n",
        "\n",
        "Kondisi di mana nasabah terprediksi tidak ingin membuka rekening deposito padahal kenyataanya ingin membuka rekening deposito\n",
        "**Konsekuensi** : Bank akan kehilangan keuntungan yang didapatkan dari nasabah potensial (Nasabah yang ingin membuka rekening deposito)\n",
        "\n",
        "\n",
        "Sebagai gambaran dari konsekuensinya, maka kita akan mencoba menghitung dampak biaya dari asumsi tersebut:\n",
        "\n",
        "- Jumlah orang yang tidak membuka rekening deposito 4081 orang *(sumber dari database)*\n",
        "- Jumlah orang yang membuka rekenning deposito 3732 *(sumber dari database)*\n",
        "- Biaya marketing untuk deposito rata-rata dari Bank adalah 1% dari gross revenue [sumber](https://emiboston.com/leading-u-s-banks-boosted-marketing-spend-in-2022/)\n",
        "- Minimal untuk pembukaan rekening deposito per orang sekitar $1,000 [sumber](https://www.forbes.com/advisor/banking/bank-account-minimum-deposit-minimum-balance-requirements/)\n",
        "- rata-rata bunga deposito 5.77% [sumber](https://www.theglobaleconomy.com/rankings/deposit_interest_rate/)\n",
        "- rata-rata bunga pinjaman 10.42% [sumber](https://www.theglobaleconomy.com/rankings/lending_interest_rate/#:~:text=Lending%20interest%20rate%20%2D%20Country%20rankings&text=The%20average%20for%202020%20based,was%20in%20Hungary%3A%201.96%20percent.)\n",
        "- Gross revenue adalah 3732 x $1,000 = $3,732,000\n",
        "- Biaya marketing adalah 1% dari $3,732,000 sehingga menghasilkan $37,320\n",
        "\n",
        "***Untuk Type I Eror*** :\n",
        "\n",
        "CPM *(Cost Per Marketing)* adalah perhitungan biaya marketing oleh bank per satu nasabah yang diukur dari \n",
        "\n",
        "$$ CPM =  \\frac {Biaya\\ Marketing}{Jumlah\\ Total\\ Nasabah} $$\n",
        "\n",
        "Jika dilihat dari CPM bisa dikatakan Bank akan mengeluarkan biaya marketing per nasabah $4.77 . Sehingga ketika nasabah ternyata tidak ingin membuka rekening deposito, Bank akan menyia-nyiakan biaya marketing $4.77 per nasabah.\n",
        "\n",
        "***Untuk Type II Eror***\n",
        "\n",
        "Pihak bank akan mendapatkan keuntungan dari nominal pinjaman yang diberikan, nominal pinjaman yang diberikan dilihat dari aset yang salah satunya didapatkan dari bertambahnya deposito.\n",
        "\n",
        "$$ Profit\\ per\\ nasabah = {(Bunga\\ Pinjaman\\ -\\ Bunga\\ Deposito)\\ X\\ Minimum\\ Pembukaan\\ Deposito } $$\n",
        "\n",
        "Sehingga pihak Bank akan berpotensi kehilangan keuntungan yang didapatkan dari setiap nasabah yang membuka rekening deposito adalah $46.5 per nasabah.\n",
        "\n",
        "Setelah mempertimbangkan hal-hal diatas, kami merasa bahwa type I eror dan type II eror sama pentingnya untuk diminimalisir, sehingga sebisa mungkin yang akan kita lakukan adalah membuat model yang dapat memprediksi sebanyak mungkin ***kelas positif*** dan ***kelas negatif*** yang benar dan meminimalkan type I error dan type II error. Jadi, metric yang akan digunakan untuk analisis adalah `MCC (Matthew Correlation Coefficient)`.\n"
      ]
    },
    {
      "attachments": {},
      "cell_type": "markdown",
      "metadata": {
        "id": "Ax01kFWQk-A6"
      },
      "source": [
        "### `Data Understanding`"
      ]
    },
    {
      "cell_type": "markdown",
      "metadata": {},
      "source": [
        "| Columns                                            | Definition                                                   | \n",
        "| ------------------------------------------------- | ------------------------------------------------------------ |\n",
        "| age | the age of the customer |\n",
        "| job | the jog of the customer |\n",
        "| balance | amount of money in a financial repository, such as a savings or checking account |\n",
        "| housing | Is the customers has housing loan |\n",
        "| loan | Is the customers has loan |\n",
        "| contact | Contact communication type |\n",
        "| month | Last contact month of the year |\n",
        "| campaign | Number of contacts performed during this campaign and for this client |\n",
        "| pdays | Number of days after the client was contacted from the previous campaign (numeric; -1 means client was not previously contacted) |\n",
        "| poutcome | Outcome of the previous marketing campaign |\n",
        "| deposit | Whether the customer deposits or not |"
      ]
    },
    {
      "cell_type": "code",
      "execution_count": 5,
      "metadata": {
        "id": "zfn9NZxAk-A9",
        "outputId": "a078f598-292e-4bb5-a92c-e25500b30c85"
      },
      "outputs": [
        {
          "name": "stdout",
          "output_type": "stream",
          "text": [
            "Jumlah baris dan kolom: (7813, 11)\n"
          ]
        },
        {
          "data": {
            "text/html": [
              "<div>\n",
              "<style scoped>\n",
              "    .dataframe tbody tr th:only-of-type {\n",
              "        vertical-align: middle;\n",
              "    }\n",
              "\n",
              "    .dataframe tbody tr th {\n",
              "        vertical-align: top;\n",
              "    }\n",
              "\n",
              "    .dataframe thead th {\n",
              "        text-align: right;\n",
              "    }\n",
              "</style>\n",
              "<table border=\"1\" class=\"dataframe\">\n",
              "  <thead>\n",
              "    <tr style=\"text-align: right;\">\n",
              "      <th></th>\n",
              "      <th>age</th>\n",
              "      <th>job</th>\n",
              "      <th>balance</th>\n",
              "      <th>housing</th>\n",
              "      <th>loan</th>\n",
              "      <th>contact</th>\n",
              "      <th>month</th>\n",
              "      <th>campaign</th>\n",
              "      <th>pdays</th>\n",
              "      <th>poutcome</th>\n",
              "      <th>deposit</th>\n",
              "    </tr>\n",
              "  </thead>\n",
              "  <tbody>\n",
              "    <tr>\n",
              "      <th>3482</th>\n",
              "      <td>24</td>\n",
              "      <td>blue-collar</td>\n",
              "      <td>-389</td>\n",
              "      <td>yes</td>\n",
              "      <td>yes</td>\n",
              "      <td>unknown</td>\n",
              "      <td>jun</td>\n",
              "      <td>1</td>\n",
              "      <td>-1</td>\n",
              "      <td>unknown</td>\n",
              "      <td>yes</td>\n",
              "    </tr>\n",
              "    <tr>\n",
              "      <th>7107</th>\n",
              "      <td>37</td>\n",
              "      <td>management</td>\n",
              "      <td>8828</td>\n",
              "      <td>no</td>\n",
              "      <td>no</td>\n",
              "      <td>unknown</td>\n",
              "      <td>jun</td>\n",
              "      <td>3</td>\n",
              "      <td>-1</td>\n",
              "      <td>unknown</td>\n",
              "      <td>yes</td>\n",
              "    </tr>\n",
              "    <tr>\n",
              "      <th>2223</th>\n",
              "      <td>45</td>\n",
              "      <td>unknown</td>\n",
              "      <td>44</td>\n",
              "      <td>no</td>\n",
              "      <td>no</td>\n",
              "      <td>unknown</td>\n",
              "      <td>jun</td>\n",
              "      <td>1</td>\n",
              "      <td>-1</td>\n",
              "      <td>unknown</td>\n",
              "      <td>no</td>\n",
              "    </tr>\n",
              "    <tr>\n",
              "      <th>4956</th>\n",
              "      <td>33</td>\n",
              "      <td>technician</td>\n",
              "      <td>370</td>\n",
              "      <td>yes</td>\n",
              "      <td>no</td>\n",
              "      <td>cellular</td>\n",
              "      <td>aug</td>\n",
              "      <td>4</td>\n",
              "      <td>-1</td>\n",
              "      <td>unknown</td>\n",
              "      <td>no</td>\n",
              "    </tr>\n",
              "    <tr>\n",
              "      <th>6436</th>\n",
              "      <td>48</td>\n",
              "      <td>admin.</td>\n",
              "      <td>476</td>\n",
              "      <td>no</td>\n",
              "      <td>no</td>\n",
              "      <td>unknown</td>\n",
              "      <td>jun</td>\n",
              "      <td>3</td>\n",
              "      <td>-1</td>\n",
              "      <td>unknown</td>\n",
              "      <td>no</td>\n",
              "    </tr>\n",
              "  </tbody>\n",
              "</table>\n",
              "</div>"
            ],
            "text/plain": [
              "      age          job  balance housing loan   contact month  campaign  pdays   \n",
              "3482   24  blue-collar     -389     yes  yes   unknown   jun         1     -1  \\\n",
              "7107   37   management     8828      no   no   unknown   jun         3     -1   \n",
              "2223   45      unknown       44      no   no   unknown   jun         1     -1   \n",
              "4956   33   technician      370     yes   no  cellular   aug         4     -1   \n",
              "6436   48       admin.      476      no   no   unknown   jun         3     -1   \n",
              "\n",
              "     poutcome deposit  \n",
              "3482  unknown     yes  \n",
              "7107  unknown     yes  \n",
              "2223  unknown      no  \n",
              "4956  unknown      no  \n",
              "6436  unknown      no  "
            ]
          },
          "execution_count": 5,
          "metadata": {},
          "output_type": "execute_result"
        }
      ],
      "source": [
        "data = pd.read_csv(r'C:\\Users\\user\\Documents\\database purwadhika\\Capstone_project 3\\data\\raw\\data_bank_marketing_campaign.csv')\n",
        "print(f'Jumlah baris dan kolom: {data.shape}')\n",
        "\n",
        "data.sample(5)"
      ]
    },
    {
      "attachments": {},
      "cell_type": "markdown",
      "metadata": {},
      "source": [
        "#### **Initial Assesment**"
      ]
    },
    {
      "cell_type": "code",
      "execution_count": 6,
      "metadata": {},
      "outputs": [
        {
          "data": {
            "text/html": [
              "<div>\n",
              "<style scoped>\n",
              "    .dataframe tbody tr th:only-of-type {\n",
              "        vertical-align: middle;\n",
              "    }\n",
              "\n",
              "    .dataframe tbody tr th {\n",
              "        vertical-align: top;\n",
              "    }\n",
              "\n",
              "    .dataframe thead th {\n",
              "        text-align: right;\n",
              "    }\n",
              "</style>\n",
              "<table border=\"1\" class=\"dataframe\">\n",
              "  <thead>\n",
              "    <tr style=\"text-align: right;\">\n",
              "      <th></th>\n",
              "      <th>column</th>\n",
              "      <th>type</th>\n",
              "      <th>n_unique</th>\n",
              "      <th>min</th>\n",
              "      <th>max</th>\n",
              "      <th>sample_unique</th>\n",
              "    </tr>\n",
              "  </thead>\n",
              "  <tbody>\n",
              "    <tr>\n",
              "      <th>0</th>\n",
              "      <td>age</td>\n",
              "      <td>int64</td>\n",
              "      <td>75</td>\n",
              "      <td>18</td>\n",
              "      <td>95</td>\n",
              "      <td>[55, 39, 51, 38, 36, 41, 37, 35, 57, 23, 33, 3...</td>\n",
              "    </tr>\n",
              "    <tr>\n",
              "      <th>1</th>\n",
              "      <td>job</td>\n",
              "      <td>object</td>\n",
              "      <td>12</td>\n",
              "      <td>admin.</td>\n",
              "      <td>unknown</td>\n",
              "      <td>[admin., self-employed, services, housemaid, t...</td>\n",
              "    </tr>\n",
              "    <tr>\n",
              "      <th>2</th>\n",
              "      <td>balance</td>\n",
              "      <td>int64</td>\n",
              "      <td>3153</td>\n",
              "      <td>-6847</td>\n",
              "      <td>66653</td>\n",
              "      <td>[1662, -3058, 3025, -87, 205, -76, 4803, 911, ...</td>\n",
              "    </tr>\n",
              "    <tr>\n",
              "      <th>3</th>\n",
              "      <td>housing</td>\n",
              "      <td>object</td>\n",
              "      <td>2</td>\n",
              "      <td>no</td>\n",
              "      <td>yes</td>\n",
              "      <td>[no, yes]</td>\n",
              "    </tr>\n",
              "    <tr>\n",
              "      <th>4</th>\n",
              "      <td>loan</td>\n",
              "      <td>object</td>\n",
              "      <td>2</td>\n",
              "      <td>no</td>\n",
              "      <td>yes</td>\n",
              "      <td>[no, yes]</td>\n",
              "    </tr>\n",
              "    <tr>\n",
              "      <th>5</th>\n",
              "      <td>contact</td>\n",
              "      <td>object</td>\n",
              "      <td>3</td>\n",
              "      <td>cellular</td>\n",
              "      <td>unknown</td>\n",
              "      <td>[cellular, telephone, unknown]</td>\n",
              "    </tr>\n",
              "    <tr>\n",
              "      <th>6</th>\n",
              "      <td>month</td>\n",
              "      <td>object</td>\n",
              "      <td>12</td>\n",
              "      <td>apr</td>\n",
              "      <td>sep</td>\n",
              "      <td>[jun, apr, may, nov, jan, sep, feb, mar, aug, ...</td>\n",
              "    </tr>\n",
              "    <tr>\n",
              "      <th>7</th>\n",
              "      <td>campaign</td>\n",
              "      <td>int64</td>\n",
              "      <td>32</td>\n",
              "      <td>1</td>\n",
              "      <td>63</td>\n",
              "      <td>[2, 3, 1, 4, 5, 6, 7, 30, 8, 9, 11, 14, 10, 28...</td>\n",
              "    </tr>\n",
              "    <tr>\n",
              "      <th>8</th>\n",
              "      <td>pdays</td>\n",
              "      <td>int64</td>\n",
              "      <td>422</td>\n",
              "      <td>-1</td>\n",
              "      <td>854</td>\n",
              "      <td>[-1, 352, 21, 91, 186, 263, 96, 355, 294, 412,...</td>\n",
              "    </tr>\n",
              "    <tr>\n",
              "      <th>9</th>\n",
              "      <td>poutcome</td>\n",
              "      <td>object</td>\n",
              "      <td>4</td>\n",
              "      <td>failure</td>\n",
              "      <td>unknown</td>\n",
              "      <td>[unknown, other, failure, success]</td>\n",
              "    </tr>\n",
              "    <tr>\n",
              "      <th>10</th>\n",
              "      <td>deposit</td>\n",
              "      <td>object</td>\n",
              "      <td>2</td>\n",
              "      <td>no</td>\n",
              "      <td>yes</td>\n",
              "      <td>[yes, no]</td>\n",
              "    </tr>\n",
              "  </tbody>\n",
              "</table>\n",
              "</div>"
            ],
            "text/plain": [
              "      column    type  n_unique       min      max   \n",
              "0        age   int64        75        18       95  \\\n",
              "1        job  object        12    admin.  unknown   \n",
              "2    balance   int64      3153     -6847    66653   \n",
              "3    housing  object         2        no      yes   \n",
              "4       loan  object         2        no      yes   \n",
              "5    contact  object         3  cellular  unknown   \n",
              "6      month  object        12       apr      sep   \n",
              "7   campaign   int64        32         1       63   \n",
              "8      pdays   int64       422        -1      854   \n",
              "9   poutcome  object         4   failure  unknown   \n",
              "10   deposit  object         2        no      yes   \n",
              "\n",
              "                                        sample_unique  \n",
              "0   [55, 39, 51, 38, 36, 41, 37, 35, 57, 23, 33, 3...  \n",
              "1   [admin., self-employed, services, housemaid, t...  \n",
              "2   [1662, -3058, 3025, -87, 205, -76, 4803, 911, ...  \n",
              "3                                           [no, yes]  \n",
              "4                                           [no, yes]  \n",
              "5                      [cellular, telephone, unknown]  \n",
              "6   [jun, apr, may, nov, jan, sep, feb, mar, aug, ...  \n",
              "7   [2, 3, 1, 4, 5, 6, 7, 30, 8, 9, 11, 14, 10, 28...  \n",
              "8   [-1, 352, 21, 91, 186, 263, 96, 355, 294, 412,...  \n",
              "9                  [unknown, other, failure, success]  \n",
              "10                                          [yes, no]  "
            ]
          },
          "execution_count": 6,
          "metadata": {},
          "output_type": "execute_result"
        }
      ],
      "source": [
        "pd.DataFrame({\n",
        "    'column': data.columns.values,\n",
        "    'type': data.dtypes.values,\n",
        "    'n_unique': data.nunique().values,\n",
        "    'min': data.min().values,\n",
        "    'max': data.max().values,\n",
        "    'sample_unique': [data[col].unique() for col in data.columns]\n",
        "})"
      ]
    },
    {
      "attachments": {},
      "cell_type": "markdown",
      "metadata": {},
      "source": [
        "__Insight :__\n",
        "* ....\n",
        "* ....\n",
        "* ....\n",
        "* ...."
      ]
    },
    {
      "attachments": {},
      "cell_type": "markdown",
      "metadata": {},
      "source": [
        "#### **Numerical variable**"
      ]
    },
    {
      "cell_type": "code",
      "execution_count": 7,
      "metadata": {},
      "outputs": [
        {
          "data": {
            "image/png": "[encoded data removed]",
            "text/plain": [
              "<Figure size 1000x700 with 4 Axes>"
            ]
          },
          "metadata": {},
          "output_type": "display_data"
        }
      ],
      "source": [
        "num_columns = ['age','balance','campaign', 'pdays',]\n",
        "\n",
        "fig, axs = plt.subplots(2, 2, sharex=False, sharey=False, figsize=(10, 7))\n",
        "\n",
        "counter = 0\n",
        "for num_column in num_columns:\n",
        "    \n",
        "    trace_x = counter // 2\n",
        "    trace_y = counter % 2\n",
        "    \n",
        "    axs[trace_x, trace_y].hist(data[num_column])\n",
        "    \n",
        "    axs[trace_x, trace_y].set_title(num_column)\n",
        "    \n",
        "    counter += 1\n",
        "\n",
        "plt.show()"
      ]
    },
    {
      "cell_type": "markdown",
      "metadata": {},
      "source": [
        " - continou = age, balance\n",
        " - discrete = campaign, pdays\n"
      ]
    },
    {
      "attachments": {},
      "cell_type": "markdown",
      "metadata": {},
      "source": [
        "__Insight :__\n",
        "* ...\n",
        "* ...\n",
        "* ..."
      ]
    },
    {
      "cell_type": "markdown",
      "metadata": {},
      "source": [
        "#### **Categorical variable**"
      ]
    },
    {
      "cell_type": "code",
      "execution_count": 8,
      "metadata": {},
      "outputs": [
        {
          "data": {
            "image/png": "[encoded data removed]",
            "text/plain": [
              "<Figure size 2000x1500 with 6 Axes>"
            ]
          },
          "metadata": {},
          "output_type": "display_data"
        }
      ],
      "source": [
        "cat_columns = ['job', 'housing', 'loan', 'contact', 'month','poutcome']\n",
        "\n",
        "fig, axs = plt.subplots(2, 3, sharex=False, sharey=False, figsize=(20, 15))\n",
        "\n",
        "counter = 0\n",
        "for cat_column in cat_columns:\n",
        "    value_counts = data[cat_column].value_counts()\n",
        "    \n",
        "    trace_x = counter // 3\n",
        "    trace_y = counter % 3\n",
        "    x_pos = np.arange(0, len(value_counts))\n",
        "    \n",
        "    axs[trace_x, trace_y].bar(x_pos, value_counts.values, tick_label = value_counts.index)\n",
        "    \n",
        "    axs[trace_x, trace_y].set_ylabel(cat_column)\n",
        "    \n",
        "    for tick in axs[trace_x, trace_y].get_xticklabels():\n",
        "        tick.set_rotation(90)\n",
        "    \n",
        "    counter += 1\n",
        "plt.show()"
      ]
    },
    {
      "cell_type": "markdown",
      "metadata": {},
      "source": [
        "- ordinal = month\n",
        "- nominal = job, housing, loan, contact, poutcome, deposit"
      ]
    },
    {
      "cell_type": "markdown",
      "metadata": {},
      "source": [
        "__Insight :__\n",
        "* ...\n",
        "* ...\n",
        "* ..."
      ]
    },
    {
      "attachments": {},
      "cell_type": "markdown",
      "metadata": {
        "id": "L6JewKcak-A-"
      },
      "source": [
        "### `Data Preparation`"
      ]
    },
    {
      "cell_type": "code",
      "execution_count": 9,
      "metadata": {},
      "outputs": [
        {
          "data": {
            "text/html": [
              "<div>\n",
              "<style scoped>\n",
              "    .dataframe tbody tr th:only-of-type {\n",
              "        vertical-align: middle;\n",
              "    }\n",
              "\n",
              "    .dataframe tbody tr th {\n",
              "        vertical-align: top;\n",
              "    }\n",
              "\n",
              "    .dataframe thead th {\n",
              "        text-align: right;\n",
              "    }\n",
              "</style>\n",
              "<table border=\"1\" class=\"dataframe\">\n",
              "  <thead>\n",
              "    <tr style=\"text-align: right;\">\n",
              "      <th></th>\n",
              "      <th>age</th>\n",
              "      <th>job</th>\n",
              "      <th>balance</th>\n",
              "      <th>housing</th>\n",
              "      <th>loan</th>\n",
              "      <th>contact</th>\n",
              "      <th>month</th>\n",
              "      <th>campaign</th>\n",
              "      <th>pdays</th>\n",
              "      <th>poutcome</th>\n",
              "      <th>deposit</th>\n",
              "    </tr>\n",
              "  </thead>\n",
              "  <tbody>\n",
              "    <tr>\n",
              "      <th>1190</th>\n",
              "      <td>29</td>\n",
              "      <td>technician</td>\n",
              "      <td>674</td>\n",
              "      <td>no</td>\n",
              "      <td>no</td>\n",
              "      <td>cellular</td>\n",
              "      <td>apr</td>\n",
              "      <td>1</td>\n",
              "      <td>13</td>\n",
              "      <td>success</td>\n",
              "      <td>yes</td>\n",
              "    </tr>\n",
              "    <tr>\n",
              "      <th>5615</th>\n",
              "      <td>43</td>\n",
              "      <td>management</td>\n",
              "      <td>481</td>\n",
              "      <td>yes</td>\n",
              "      <td>no</td>\n",
              "      <td>cellular</td>\n",
              "      <td>jun</td>\n",
              "      <td>1</td>\n",
              "      <td>20</td>\n",
              "      <td>other</td>\n",
              "      <td>yes</td>\n",
              "    </tr>\n",
              "    <tr>\n",
              "      <th>5358</th>\n",
              "      <td>32</td>\n",
              "      <td>management</td>\n",
              "      <td>62</td>\n",
              "      <td>yes</td>\n",
              "      <td>no</td>\n",
              "      <td>cellular</td>\n",
              "      <td>may</td>\n",
              "      <td>1</td>\n",
              "      <td>-1</td>\n",
              "      <td>unknown</td>\n",
              "      <td>no</td>\n",
              "    </tr>\n",
              "    <tr>\n",
              "      <th>1969</th>\n",
              "      <td>45</td>\n",
              "      <td>admin.</td>\n",
              "      <td>204</td>\n",
              "      <td>yes</td>\n",
              "      <td>no</td>\n",
              "      <td>cellular</td>\n",
              "      <td>jun</td>\n",
              "      <td>2</td>\n",
              "      <td>-1</td>\n",
              "      <td>unknown</td>\n",
              "      <td>yes</td>\n",
              "    </tr>\n",
              "    <tr>\n",
              "      <th>3008</th>\n",
              "      <td>28</td>\n",
              "      <td>technician</td>\n",
              "      <td>5763</td>\n",
              "      <td>no</td>\n",
              "      <td>yes</td>\n",
              "      <td>cellular</td>\n",
              "      <td>mar</td>\n",
              "      <td>2</td>\n",
              "      <td>-1</td>\n",
              "      <td>unknown</td>\n",
              "      <td>yes</td>\n",
              "    </tr>\n",
              "  </tbody>\n",
              "</table>\n",
              "</div>"
            ],
            "text/plain": [
              "      age         job  balance housing loan   contact month  campaign  pdays   \n",
              "1190   29  technician      674      no   no  cellular   apr         1     13  \\\n",
              "5615   43  management      481     yes   no  cellular   jun         1     20   \n",
              "5358   32  management       62     yes   no  cellular   may         1     -1   \n",
              "1969   45      admin.      204     yes   no  cellular   jun         2     -1   \n",
              "3008   28  technician     5763      no  yes  cellular   mar         2     -1   \n",
              "\n",
              "     poutcome deposit  \n",
              "1190  success     yes  \n",
              "5615    other     yes  \n",
              "5358  unknown      no  \n",
              "1969  unknown     yes  \n",
              "3008  unknown     yes  "
            ]
          },
          "execution_count": 9,
          "metadata": {},
          "output_type": "execute_result"
        }
      ],
      "source": [
        "df = data.copy()\n",
        "df.sample(5)"
      ]
    },
    {
      "attachments": {},
      "cell_type": "markdown",
      "metadata": {},
      "source": [
        "#### **Data Wrangling**"
      ]
    },
    {
      "attachments": {},
      "cell_type": "markdown",
      "metadata": {},
      "source": [
        "**Missing Value**"
      ]
    },
    {
      "attachments": {},
      "cell_type": "markdown",
      "metadata": {},
      "source": [
        "Deteksi dan kuantifikasi missing value:"
      ]
    },
    {
      "cell_type": "code",
      "execution_count": 10,
      "metadata": {},
      "outputs": [
        {
          "data": {
            "text/plain": [
              "age         0\n",
              "job         0\n",
              "balance     0\n",
              "housing     0\n",
              "loan        0\n",
              "contact     0\n",
              "month       0\n",
              "campaign    0\n",
              "pdays       0\n",
              "poutcome    0\n",
              "deposit     0\n",
              "dtype: int64"
            ]
          },
          "execution_count": 10,
          "metadata": {},
          "output_type": "execute_result"
        }
      ],
      "source": [
        "df.isna().sum()"
      ]
    },
    {
      "cell_type": "markdown",
      "metadata": {},
      "source": [
        "Handling missing value:"
      ]
    },
    {
      "cell_type": "code",
      "execution_count": null,
      "metadata": {},
      "outputs": [],
      "source": []
    },
    {
      "attachments": {},
      "cell_type": "markdown",
      "metadata": {},
      "source": [
        "__Insight :__ \n",
        "* ....\n",
        "* ....\n",
        "* ...."
      ]
    },
    {
      "cell_type": "markdown",
      "metadata": {},
      "source": [
        "**Rare label**"
      ]
    },
    {
      "cell_type": "markdown",
      "metadata": {},
      "source": [
        "Deteksi dan kuantifikasi rare value:"
      ]
    },
    {
      "cell_type": "code",
      "execution_count": 11,
      "metadata": {},
      "outputs": [
        {
          "data": {
            "image/png": "[encoded data removed]",
            "text/plain": [
              "<Figure size 500x500 with 1 Axes>"
            ]
          },
          "metadata": {},
          "output_type": "display_data"
        }
      ],
      "source": [
        "# calculate the customers that have accepted campaign once or more and the customers that never accepted\n",
        "value_dep = df['deposit'].value_counts()\n",
        "\n",
        "# initialize plot\n",
        "fig, ax = plt.subplots(figsize=(5, 5))\n",
        "\n",
        "# adjust the subplot so that the title would fit\n",
        "plt.subplots_adjust(top=0.9)\n",
        "\n",
        "# add title\n",
        "fig.text(\n",
        "    0, 1.05, \"Analisis Kepemilikan Rekening Deposito\", \n",
        "    fontsize=12,\n",
        "    fontweight=\"bold\", \n",
        ")\n",
        "\n",
        "# add subtitle\n",
        "fig.text(\n",
        "    0, 0.98, \n",
        "    f'''Kita mendapatkan angka prosentase nasabah yang memiliki rekening deposito sebesar 47,2%\n",
        "dan prosentase nasabah yang tidak memiliki rekening deposit adalah 52,8%''',\n",
        "    fontsize=9.7, \n",
        "    color='black'\n",
        ")\n",
        "\n",
        "# create pie chart\n",
        "plt.pie(value_dep, \n",
        "        colors=[\"#C7C9CB\", '#007b88'],\n",
        "        labels=['No', 'Yes' ], \n",
        "        autopct='%1.1f%%', \n",
        "        startangle=90, \n",
        "        pctdistance=0.85, \n",
        "        explode=(0.05, 0.05),\n",
        "        textprops = {\"fontsize\": 9.5},\n",
        ")\n",
        "\n",
        "# create a circle at the center of the plot\n",
        "fig = plt.gcf()\n",
        "fig.gca().add_artist(plt.Circle((0, 0), 0.7, fc='white'))\n",
        "\n",
        "# show\n",
        "plt.tight_layout()\n",
        "plt.show()"
      ]
    },
    {
      "cell_type": "markdown",
      "metadata": {},
      "source": [
        "__Insight :__ \n",
        "* Data nasabah yang membuka rekening deposito ada 3732 orang dengan prosentase 47,8% \n",
        "* Data nasabah yang tidak membuka rekening deposito ada 4081 orang dengan prosentase 52,2% \n",
        "* Target data bisa dikatakan balance karena prosentase yang membuka deposito dan tidak hampir sama"
      ]
    },
    {
      "attachments": {},
      "cell_type": "markdown",
      "metadata": {},
      "source": [
        "**Outlier** "
      ]
    },
    {
      "cell_type": "markdown",
      "metadata": {},
      "source": [
        "Deteksi dan kuantifikasi outlier:"
      ]
    },
    {
      "cell_type": "code",
      "execution_count": 12,
      "metadata": {},
      "outputs": [
        {
          "data": {
            "image/png": "[encoded data removed]",
            "text/plain": [
              "<Figure size 1500x600 with 4 Axes>"
            ]
          },
          "metadata": {},
          "output_type": "display_data"
        }
      ],
      "source": [
        "import seaborn as sns\n",
        "import matplotlib.pyplot as plt\n",
        "from scipy import stats\n",
        "\n",
        "dataout = df[['age', 'balance', 'campaign', 'pdays']]\n",
        "\n",
        "fig, axs = plt.subplots(ncols=4, nrows=1, figsize=(15, 6))\n",
        "index = 0\n",
        "axs = axs.flatten()\n",
        "for k,v in dataout.items():\n",
        "    sns.boxplot(y=k, data=dataout, ax=axs[index])\n",
        "    index += 1\n",
        "\n",
        "plt.tight_layout(pad=0.4, w_pad=0.5, h_pad=5.0)"
      ]
    },
    {
      "attachments": {},
      "cell_type": "markdown",
      "metadata": {},
      "source": [
        "Handling outlier:"
      ]
    },
    {
      "cell_type": "code",
      "execution_count": null,
      "metadata": {},
      "outputs": [],
      "source": []
    },
    {
      "attachments": {},
      "cell_type": "markdown",
      "metadata": {},
      "source": [
        "__Insight :__\n",
        "* ....\n",
        "* ....\n",
        "* ...."
      ]
    },
    {
      "cell_type": "markdown",
      "metadata": {},
      "source": [
        "**Problematic Data Value**"
      ]
    },
    {
      "cell_type": "markdown",
      "metadata": {},
      "source": [
        "Deteksi dan kuantifikasi data problematik pada kolom pdays :"
      ]
    },
    {
      "cell_type": "code",
      "execution_count": 13,
      "metadata": {},
      "outputs": [
        {
          "data": {
            "text/html": [
              "<div>\n",
              "<style scoped>\n",
              "    .dataframe tbody tr th:only-of-type {\n",
              "        vertical-align: middle;\n",
              "    }\n",
              "\n",
              "    .dataframe tbody tr th {\n",
              "        vertical-align: top;\n",
              "    }\n",
              "\n",
              "    .dataframe thead th {\n",
              "        text-align: right;\n",
              "    }\n",
              "</style>\n",
              "<table border=\"1\" class=\"dataframe\">\n",
              "  <thead>\n",
              "    <tr style=\"text-align: right;\">\n",
              "      <th></th>\n",
              "      <th>age</th>\n",
              "      <th>job</th>\n",
              "      <th>balance</th>\n",
              "      <th>housing</th>\n",
              "      <th>loan</th>\n",
              "      <th>contact</th>\n",
              "      <th>month</th>\n",
              "      <th>campaign</th>\n",
              "      <th>pdays</th>\n",
              "      <th>poutcome</th>\n",
              "      <th>deposit</th>\n",
              "    </tr>\n",
              "  </thead>\n",
              "  <tbody>\n",
              "    <tr>\n",
              "      <th>0</th>\n",
              "      <td>55</td>\n",
              "      <td>admin.</td>\n",
              "      <td>1662</td>\n",
              "      <td>no</td>\n",
              "      <td>no</td>\n",
              "      <td>cellular</td>\n",
              "      <td>jun</td>\n",
              "      <td>2</td>\n",
              "      <td>-1</td>\n",
              "      <td>unknown</td>\n",
              "      <td>yes</td>\n",
              "    </tr>\n",
              "    <tr>\n",
              "      <th>1</th>\n",
              "      <td>39</td>\n",
              "      <td>self-employed</td>\n",
              "      <td>-3058</td>\n",
              "      <td>yes</td>\n",
              "      <td>yes</td>\n",
              "      <td>cellular</td>\n",
              "      <td>apr</td>\n",
              "      <td>3</td>\n",
              "      <td>-1</td>\n",
              "      <td>unknown</td>\n",
              "      <td>yes</td>\n",
              "    </tr>\n",
              "    <tr>\n",
              "      <th>3</th>\n",
              "      <td>38</td>\n",
              "      <td>services</td>\n",
              "      <td>-87</td>\n",
              "      <td>yes</td>\n",
              "      <td>no</td>\n",
              "      <td>cellular</td>\n",
              "      <td>may</td>\n",
              "      <td>1</td>\n",
              "      <td>-1</td>\n",
              "      <td>unknown</td>\n",
              "      <td>no</td>\n",
              "    </tr>\n",
              "    <tr>\n",
              "      <th>4</th>\n",
              "      <td>36</td>\n",
              "      <td>housemaid</td>\n",
              "      <td>205</td>\n",
              "      <td>yes</td>\n",
              "      <td>no</td>\n",
              "      <td>telephone</td>\n",
              "      <td>nov</td>\n",
              "      <td>4</td>\n",
              "      <td>-1</td>\n",
              "      <td>unknown</td>\n",
              "      <td>no</td>\n",
              "    </tr>\n",
              "    <tr>\n",
              "      <th>5</th>\n",
              "      <td>41</td>\n",
              "      <td>admin.</td>\n",
              "      <td>-76</td>\n",
              "      <td>yes</td>\n",
              "      <td>no</td>\n",
              "      <td>cellular</td>\n",
              "      <td>apr</td>\n",
              "      <td>1</td>\n",
              "      <td>-1</td>\n",
              "      <td>unknown</td>\n",
              "      <td>no</td>\n",
              "    </tr>\n",
              "    <tr>\n",
              "      <th>...</th>\n",
              "      <td>...</td>\n",
              "      <td>...</td>\n",
              "      <td>...</td>\n",
              "      <td>...</td>\n",
              "      <td>...</td>\n",
              "      <td>...</td>\n",
              "      <td>...</td>\n",
              "      <td>...</td>\n",
              "      <td>...</td>\n",
              "      <td>...</td>\n",
              "      <td>...</td>\n",
              "    </tr>\n",
              "    <tr>\n",
              "      <th>7807</th>\n",
              "      <td>33</td>\n",
              "      <td>management</td>\n",
              "      <td>0</td>\n",
              "      <td>yes</td>\n",
              "      <td>yes</td>\n",
              "      <td>cellular</td>\n",
              "      <td>may</td>\n",
              "      <td>2</td>\n",
              "      <td>-1</td>\n",
              "      <td>unknown</td>\n",
              "      <td>no</td>\n",
              "    </tr>\n",
              "    <tr>\n",
              "      <th>7808</th>\n",
              "      <td>62</td>\n",
              "      <td>housemaid</td>\n",
              "      <td>2</td>\n",
              "      <td>no</td>\n",
              "      <td>no</td>\n",
              "      <td>cellular</td>\n",
              "      <td>nov</td>\n",
              "      <td>1</td>\n",
              "      <td>-1</td>\n",
              "      <td>unknown</td>\n",
              "      <td>yes</td>\n",
              "    </tr>\n",
              "    <tr>\n",
              "      <th>7810</th>\n",
              "      <td>36</td>\n",
              "      <td>unknown</td>\n",
              "      <td>179</td>\n",
              "      <td>no</td>\n",
              "      <td>no</td>\n",
              "      <td>cellular</td>\n",
              "      <td>aug</td>\n",
              "      <td>8</td>\n",
              "      <td>-1</td>\n",
              "      <td>unknown</td>\n",
              "      <td>no</td>\n",
              "    </tr>\n",
              "    <tr>\n",
              "      <th>7811</th>\n",
              "      <td>31</td>\n",
              "      <td>admin.</td>\n",
              "      <td>54</td>\n",
              "      <td>yes</td>\n",
              "      <td>no</td>\n",
              "      <td>cellular</td>\n",
              "      <td>nov</td>\n",
              "      <td>1</td>\n",
              "      <td>-1</td>\n",
              "      <td>unknown</td>\n",
              "      <td>no</td>\n",
              "    </tr>\n",
              "    <tr>\n",
              "      <th>7812</th>\n",
              "      <td>60</td>\n",
              "      <td>retired</td>\n",
              "      <td>1588</td>\n",
              "      <td>no</td>\n",
              "      <td>no</td>\n",
              "      <td>cellular</td>\n",
              "      <td>oct</td>\n",
              "      <td>1</td>\n",
              "      <td>-1</td>\n",
              "      <td>unknown</td>\n",
              "      <td>yes</td>\n",
              "    </tr>\n",
              "  </tbody>\n",
              "</table>\n",
              "<p>5817 rows × 11 columns</p>\n",
              "</div>"
            ],
            "text/plain": [
              "      age            job  balance housing loan    contact month  campaign   \n",
              "0      55         admin.     1662      no   no   cellular   jun         2  \\\n",
              "1      39  self-employed    -3058     yes  yes   cellular   apr         3   \n",
              "3      38       services      -87     yes   no   cellular   may         1   \n",
              "4      36      housemaid      205     yes   no  telephone   nov         4   \n",
              "5      41         admin.      -76     yes   no   cellular   apr         1   \n",
              "...   ...            ...      ...     ...  ...        ...   ...       ...   \n",
              "7807   33     management        0     yes  yes   cellular   may         2   \n",
              "7808   62      housemaid        2      no   no   cellular   nov         1   \n",
              "7810   36        unknown      179      no   no   cellular   aug         8   \n",
              "7811   31         admin.       54     yes   no   cellular   nov         1   \n",
              "7812   60        retired     1588      no   no   cellular   oct         1   \n",
              "\n",
              "      pdays poutcome deposit  \n",
              "0        -1  unknown     yes  \n",
              "1        -1  unknown     yes  \n",
              "3        -1  unknown      no  \n",
              "4        -1  unknown      no  \n",
              "5        -1  unknown      no  \n",
              "...     ...      ...     ...  \n",
              "7807     -1  unknown      no  \n",
              "7808     -1  unknown     yes  \n",
              "7810     -1  unknown      no  \n",
              "7811     -1  unknown      no  \n",
              "7812     -1  unknown     yes  \n",
              "\n",
              "[5817 rows x 11 columns]"
            ]
          },
          "execution_count": 13,
          "metadata": {},
          "output_type": "execute_result"
        }
      ],
      "source": [
        "df[df['pdays'] == -1]"
      ]
    },
    {
      "cell_type": "markdown",
      "metadata": {},
      "source": [
        "__Insight :__\n",
        "* Terdapat data dengan value minus (-) yaitu -1 yang memiliki arti nasabah tersebut tidak pernah dihubungi dilihat dari campaign terakhir sejumlah 5817 data\n",
        "* Handling problematik data akan dilakukan pada pycaret dengan mengganti -1 menjadi 0 "
      ]
    },
    {
      "cell_type": "markdown",
      "metadata": {},
      "source": [
        "Deteksi dan kuantifikasi data problematik yang memiliki value unknown :"
      ]
    },
    {
      "cell_type": "code",
      "execution_count": 14,
      "metadata": {},
      "outputs": [
        {
          "data": {
            "text/html": [
              "<div>\n",
              "<style scoped>\n",
              "    .dataframe tbody tr th:only-of-type {\n",
              "        vertical-align: middle;\n",
              "    }\n",
              "\n",
              "    .dataframe tbody tr th {\n",
              "        vertical-align: top;\n",
              "    }\n",
              "\n",
              "    .dataframe thead th {\n",
              "        text-align: right;\n",
              "    }\n",
              "</style>\n",
              "<table border=\"1\" class=\"dataframe\">\n",
              "  <thead>\n",
              "    <tr style=\"text-align: right;\">\n",
              "      <th></th>\n",
              "      <th>Columns</th>\n",
              "      <th>Number of unknown</th>\n",
              "      <th>% unknown</th>\n",
              "    </tr>\n",
              "  </thead>\n",
              "  <tbody>\n",
              "    <tr>\n",
              "      <th>0</th>\n",
              "      <td>job</td>\n",
              "      <td>54</td>\n",
              "      <td>0.69</td>\n",
              "    </tr>\n",
              "    <tr>\n",
              "      <th>1</th>\n",
              "      <td>housing</td>\n",
              "      <td>0</td>\n",
              "      <td>0.00</td>\n",
              "    </tr>\n",
              "    <tr>\n",
              "      <th>2</th>\n",
              "      <td>loan</td>\n",
              "      <td>0</td>\n",
              "      <td>0.00</td>\n",
              "    </tr>\n",
              "    <tr>\n",
              "      <th>3</th>\n",
              "      <td>contact</td>\n",
              "      <td>1639</td>\n",
              "      <td>20.98</td>\n",
              "    </tr>\n",
              "    <tr>\n",
              "      <th>4</th>\n",
              "      <td>month</td>\n",
              "      <td>0</td>\n",
              "      <td>0.00</td>\n",
              "    </tr>\n",
              "    <tr>\n",
              "      <th>5</th>\n",
              "      <td>poutcome</td>\n",
              "      <td>5819</td>\n",
              "      <td>74.48</td>\n",
              "    </tr>\n",
              "  </tbody>\n",
              "</table>\n",
              "</div>"
            ],
            "text/plain": [
              "    Columns  Number of unknown  % unknown\n",
              "0       job                 54       0.69\n",
              "1   housing                  0       0.00\n",
              "2      loan                  0       0.00\n",
              "3   contact               1639      20.98\n",
              "4     month                  0       0.00\n",
              "5  poutcome               5819      74.48"
            ]
          },
          "execution_count": 14,
          "metadata": {},
          "output_type": "execute_result"
        }
      ],
      "source": [
        "Columns = []\n",
        "Unknown = []\n",
        "percentUnknown = []\n",
        "\n",
        "for i in cat_columns:\n",
        "    unknown = df[i].str.contains('unknown').sum()\n",
        "    Unknown.append(unknown)\n",
        "\n",
        "    percent_unknown = (unknown / len(df) * 100).round(2)\n",
        "    percentUnknown.append(percent_unknown)\n",
        "\n",
        "    Columns.append(i)\n",
        "\n",
        "pd.DataFrame({\n",
        "    'Columns' : Columns,\n",
        "    'Number of unknown' : Unknown,\n",
        "    '% unknown' : percentUnknown\n",
        "}\n",
        ")"
      ]
    },
    {
      "cell_type": "markdown",
      "metadata": {},
      "source": [
        "__Insight :__\n",
        "* Terdapat 54 data dengan value unknown pada column **job** dengan prosentase 0,69%\n",
        "* Terdapat 1639 data dengan value unknown pada column **contact** dengan prosentase 20.98%\n",
        "* Terdapat 5819 data dengan value unknown pada column **poutcome** dengan prosentase 74.48%\n",
        "* Handling problematik data pada column **job** akan dilakukan pada pycaret dengan mengganti unknown menjadi other sehingga ketika nantinya data baru yang akan dimasukkan dan bervalue unknown atau tidak terdapat dari 11 kategori yang tersedia dapat dimasukkan dalam other \n",
        "* Handling problematik data pada colum **poutcome** akan dilakukan pada pycaret dengan mengganti unknown menjadi other untuk menyederhanakan karena kategori other juga sudah tersedia sebelumnya \n",
        "* Pada column **contact** akan tetap dibiarkan unknown karena memang tidak bisa didefinisikan"
      ]
    },
    {
      "cell_type": "markdown",
      "metadata": {},
      "source": [
        "**Duplicated Value**"
      ]
    },
    {
      "cell_type": "markdown",
      "metadata": {},
      "source": [
        "Deteksi dan kuantifikasi data duplikat :"
      ]
    },
    {
      "cell_type": "code",
      "execution_count": 15,
      "metadata": {},
      "outputs": [
        {
          "data": {
            "text/html": [
              "<div>\n",
              "<style scoped>\n",
              "    .dataframe tbody tr th:only-of-type {\n",
              "        vertical-align: middle;\n",
              "    }\n",
              "\n",
              "    .dataframe tbody tr th {\n",
              "        vertical-align: top;\n",
              "    }\n",
              "\n",
              "    .dataframe thead th {\n",
              "        text-align: right;\n",
              "    }\n",
              "</style>\n",
              "<table border=\"1\" class=\"dataframe\">\n",
              "  <thead>\n",
              "    <tr style=\"text-align: right;\">\n",
              "      <th></th>\n",
              "      <th>age</th>\n",
              "      <th>job</th>\n",
              "      <th>balance</th>\n",
              "      <th>housing</th>\n",
              "      <th>loan</th>\n",
              "      <th>contact</th>\n",
              "      <th>month</th>\n",
              "      <th>campaign</th>\n",
              "      <th>pdays</th>\n",
              "      <th>poutcome</th>\n",
              "      <th>deposit</th>\n",
              "    </tr>\n",
              "  </thead>\n",
              "  <tbody>\n",
              "    <tr>\n",
              "      <th>2944</th>\n",
              "      <td>40</td>\n",
              "      <td>blue-collar</td>\n",
              "      <td>0</td>\n",
              "      <td>yes</td>\n",
              "      <td>no</td>\n",
              "      <td>unknown</td>\n",
              "      <td>may</td>\n",
              "      <td>2</td>\n",
              "      <td>-1</td>\n",
              "      <td>unknown</td>\n",
              "      <td>no</td>\n",
              "    </tr>\n",
              "    <tr>\n",
              "      <th>4368</th>\n",
              "      <td>60</td>\n",
              "      <td>management</td>\n",
              "      <td>0</td>\n",
              "      <td>no</td>\n",
              "      <td>no</td>\n",
              "      <td>cellular</td>\n",
              "      <td>aug</td>\n",
              "      <td>3</td>\n",
              "      <td>-1</td>\n",
              "      <td>unknown</td>\n",
              "      <td>yes</td>\n",
              "    </tr>\n",
              "    <tr>\n",
              "      <th>4874</th>\n",
              "      <td>41</td>\n",
              "      <td>management</td>\n",
              "      <td>0</td>\n",
              "      <td>no</td>\n",
              "      <td>no</td>\n",
              "      <td>cellular</td>\n",
              "      <td>aug</td>\n",
              "      <td>2</td>\n",
              "      <td>-1</td>\n",
              "      <td>unknown</td>\n",
              "      <td>no</td>\n",
              "    </tr>\n",
              "    <tr>\n",
              "      <th>5326</th>\n",
              "      <td>44</td>\n",
              "      <td>blue-collar</td>\n",
              "      <td>0</td>\n",
              "      <td>yes</td>\n",
              "      <td>no</td>\n",
              "      <td>cellular</td>\n",
              "      <td>jul</td>\n",
              "      <td>1</td>\n",
              "      <td>-1</td>\n",
              "      <td>unknown</td>\n",
              "      <td>no</td>\n",
              "    </tr>\n",
              "    <tr>\n",
              "      <th>5609</th>\n",
              "      <td>39</td>\n",
              "      <td>technician</td>\n",
              "      <td>0</td>\n",
              "      <td>yes</td>\n",
              "      <td>no</td>\n",
              "      <td>unknown</td>\n",
              "      <td>may</td>\n",
              "      <td>1</td>\n",
              "      <td>-1</td>\n",
              "      <td>unknown</td>\n",
              "      <td>no</td>\n",
              "    </tr>\n",
              "    <tr>\n",
              "      <th>5681</th>\n",
              "      <td>38</td>\n",
              "      <td>technician</td>\n",
              "      <td>0</td>\n",
              "      <td>no</td>\n",
              "      <td>no</td>\n",
              "      <td>cellular</td>\n",
              "      <td>aug</td>\n",
              "      <td>2</td>\n",
              "      <td>-1</td>\n",
              "      <td>unknown</td>\n",
              "      <td>no</td>\n",
              "    </tr>\n",
              "    <tr>\n",
              "      <th>5905</th>\n",
              "      <td>34</td>\n",
              "      <td>management</td>\n",
              "      <td>0</td>\n",
              "      <td>no</td>\n",
              "      <td>no</td>\n",
              "      <td>cellular</td>\n",
              "      <td>aug</td>\n",
              "      <td>2</td>\n",
              "      <td>-1</td>\n",
              "      <td>unknown</td>\n",
              "      <td>no</td>\n",
              "    </tr>\n",
              "    <tr>\n",
              "      <th>7077</th>\n",
              "      <td>30</td>\n",
              "      <td>blue-collar</td>\n",
              "      <td>239</td>\n",
              "      <td>yes</td>\n",
              "      <td>no</td>\n",
              "      <td>unknown</td>\n",
              "      <td>may</td>\n",
              "      <td>1</td>\n",
              "      <td>-1</td>\n",
              "      <td>unknown</td>\n",
              "      <td>yes</td>\n",
              "    </tr>\n",
              "  </tbody>\n",
              "</table>\n",
              "</div>"
            ],
            "text/plain": [
              "      age          job  balance housing loan   contact month  campaign  pdays   \n",
              "2944   40  blue-collar        0     yes   no   unknown   may         2     -1  \\\n",
              "4368   60   management        0      no   no  cellular   aug         3     -1   \n",
              "4874   41   management        0      no   no  cellular   aug         2     -1   \n",
              "5326   44  blue-collar        0     yes   no  cellular   jul         1     -1   \n",
              "5609   39   technician        0     yes   no   unknown   may         1     -1   \n",
              "5681   38   technician        0      no   no  cellular   aug         2     -1   \n",
              "5905   34   management        0      no   no  cellular   aug         2     -1   \n",
              "7077   30  blue-collar      239     yes   no   unknown   may         1     -1   \n",
              "\n",
              "     poutcome deposit  \n",
              "2944  unknown      no  \n",
              "4368  unknown     yes  \n",
              "4874  unknown      no  \n",
              "5326  unknown      no  \n",
              "5609  unknown      no  \n",
              "5681  unknown      no  \n",
              "5905  unknown      no  \n",
              "7077  unknown     yes  "
            ]
          },
          "execution_count": 15,
          "metadata": {},
          "output_type": "execute_result"
        }
      ],
      "source": [
        "df[df.duplicated()]"
      ]
    },
    {
      "cell_type": "markdown",
      "metadata": {},
      "source": [
        "Handling data duplikat :"
      ]
    },
    {
      "cell_type": "code",
      "execution_count": 16,
      "metadata": {},
      "outputs": [],
      "source": [
        "df = df.drop_duplicates(keep='last', ignore_index=True)"
      ]
    },
    {
      "attachments": {},
      "cell_type": "markdown",
      "metadata": {},
      "source": [
        "#### **Feature Engineering**"
      ]
    },
    {
      "attachments": {},
      "cell_type": "markdown",
      "metadata": {},
      "source": [
        "Bagi dataset menjadi train set dan test set:"
      ]
    },
    {
      "cell_type": "code",
      "execution_count": 17,
      "metadata": {},
      "outputs": [
        {
          "data": {
            "text/plain": [
              "((6244, 11), (1561, 11))"
            ]
          },
          "execution_count": 17,
          "metadata": {},
          "output_type": "execute_result"
        }
      ],
      "source": [
        "from sklearn.model_selection import train_test_split\n",
        "\n",
        "df_train, df_test = train_test_split(df, test_size=0.2, random_state=0)\n",
        "\n",
        "X_train = df_train.drop(columns='deposit')\n",
        "y_train = df_train['deposit']\n",
        "\n",
        "X_test = df_test.drop(columns='deposit')\n",
        "y_test = df_test['deposit']\n",
        "\n",
        "df_train.shape, df_test.shape"
      ]
    },
    {
      "cell_type": "code",
      "execution_count": 18,
      "metadata": {},
      "outputs": [
        {
          "data": {
            "text/plain": [
              "<zip at 0x2b1d8e9a5c0>"
            ]
          },
          "execution_count": 18,
          "metadata": {},
          "output_type": "execute_result"
        }
      ],
      "source": [
        "df['job'].items()"
      ]
    },
    {
      "cell_type": "code",
      "execution_count": 25,
      "metadata": {},
      "outputs": [],
      "source": [
        "cols = [\"job\", \"poutcome\"]\n",
        "df[cols].replace(\"unknown\", \"other\", inplace = True)"
      ]
    },
    {
      "cell_type": "code",
      "execution_count": 26,
      "metadata": {},
      "outputs": [
        {
          "data": {
            "text/plain": [
              "job\n",
              "management       1789\n",
              "blue-collar      1343\n",
              "technician       1289\n",
              "admin.            936\n",
              "services          658\n",
              "retired           540\n",
              "self-employed     280\n",
              "unemployed        249\n",
              "student           247\n",
              "entrepreneur      236\n",
              "housemaid         184\n",
              "unknown            54\n",
              "Name: count, dtype: int64"
            ]
          },
          "execution_count": 26,
          "metadata": {},
          "output_type": "execute_result"
        }
      ],
      "source": [
        "df.job.value_counts()"
      ]
    },
    {
      "cell_type": "code",
      "execution_count": 19,
      "metadata": {},
      "outputs": [],
      "source": [
        "from sklearn.base import BaseEstimator, TransformerMixin\n",
        "\n",
        "class clearAll(BaseEstimator, TransformerMixin):\n",
        "    \n",
        "    def _init_(self):\n",
        "        pass\n",
        "\n",
        "    def fit(self, X, y=None):\n",
        "        return self\n",
        "    \n",
        "    def transform(self, X, y=None):\n",
        "        # Replace value -1 menjadi 0 pada column job\n",
        "        X[\"pdays\"].replace(-1, 0, inplace=True) \n",
        "\n",
        "        # Replace value unknown menjadi other pada column job dan poutcome\n",
        "        cols = [\"job\", \"poutcome\"]\n",
        "        X[cols].replace(\"unknown\", \"other\", inplace = True)\n",
        "        return X"
      ]
    },
    {
      "cell_type": "code",
      "execution_count": 20,
      "metadata": {},
      "outputs": [],
      "source": [
        "# Membuat pipeline transformasi\n",
        "\n",
        "from sklearn.preprocessing import RobustScaler\n",
        "from pycaret.internal.preprocess.transformers import TransformerWrapper #Melakukan transformer\n",
        "\n",
        "customPipeline = [\n",
        "    (\"clearAll\", TransformerWrapper(transformer=clearAll())),\n",
        "]"
      ]
    },
    {
      "cell_type": "code",
      "execution_count": 21,
      "metadata": {},
      "outputs": [],
      "source": [
        "# Setting parameter dasar menggunakan pycaret\n",
        "import pycaret\n",
        "from pycaret.classification import *\n",
        "\n",
        "clf = setup(\n",
        "    # general setup\n",
        "    data=df_train, \n",
        "    target='deposit',\n",
        "    train_size=0.8,\n",
        "    verbose=False,\n",
        "    preprocess=False,\n",
        "\n",
        "    # feature setup\n",
        "    # ignore_features=[],\n",
        "\n",
        "    # experiment setup\n",
        "    session_id=42, \n",
        "    log_data=True,\n",
        "    log_plots=True,\n",
        "\n",
        "    # data wrangling\n",
        "    imputation_type=None, \n",
        "    # remove_outliers=True,\n",
        "    # outliers_method='iforest',\n",
        "    custom_pipeline=customPipeline,\n",
        "    custom_pipeline_position=0,\n",
        ")"
      ]
    },
    {
      "cell_type": "code",
      "execution_count": 24,
      "metadata": {},
      "outputs": [
        {
          "data": {
            "text/plain": [
              "job\n",
              "management       1130\n",
              "technician        842\n",
              "blue-collar       840\n",
              "admin.            611\n",
              "services          430\n",
              "retired           349\n",
              "self-employed     173\n",
              "student           169\n",
              "unemployed        162\n",
              "entrepreneur      146\n",
              "housemaid         114\n",
              "unknown            29\n",
              "Name: count, dtype: int64"
            ]
          },
          "execution_count": 24,
          "metadata": {},
          "output_type": "execute_result"
        }
      ],
      "source": [
        "get_config(\"X_train_transformed\")['job'].value_counts()"
      ]
    },
    {
      "attachments": {},
      "cell_type": "markdown",
      "metadata": {},
      "source": [
        "Proses scaling dan encoding:"
      ]
    },
    {
      "cell_type": "code",
      "execution_count": null,
      "metadata": {},
      "outputs": [],
      "source": []
    },
    {
      "cell_type": "markdown",
      "metadata": {},
      "source": [
        "Feature Creation:"
      ]
    },
    {
      "cell_type": "code",
      "execution_count": null,
      "metadata": {},
      "outputs": [],
      "source": []
    },
    {
      "cell_type": "markdown",
      "metadata": {},
      "source": [
        "Feature Selection:"
      ]
    },
    {
      "cell_type": "code",
      "execution_count": null,
      "metadata": {},
      "outputs": [],
      "source": []
    },
    {
      "attachments": {},
      "cell_type": "markdown",
      "metadata": {
        "id": "-L7g9nCnk-BX"
      },
      "source": [
        "### `Modeling`"
      ]
    },
    {
      "cell_type": "markdown",
      "metadata": {},
      "source": [
        "**Model Experiment**"
      ]
    },
    {
      "cell_type": "markdown",
      "metadata": {},
      "source": [
        "Bandingkan model regresi atau klasifikasi untuk mendapatkan benchmark model:"
      ]
    },
    {
      "cell_type": "code",
      "execution_count": null,
      "metadata": {},
      "outputs": [],
      "source": []
    },
    {
      "cell_type": "markdown",
      "metadata": {},
      "source": [
        "Lakukan optimasi model benchmark:"
      ]
    },
    {
      "cell_type": "code",
      "execution_count": null,
      "metadata": {},
      "outputs": [],
      "source": []
    },
    {
      "cell_type": "markdown",
      "metadata": {},
      "source": [
        "Validasi silang 10-fold untuk mendapatkan rentang kinerja model:"
      ]
    },
    {
      "cell_type": "code",
      "execution_count": null,
      "metadata": {},
      "outputs": [],
      "source": []
    },
    {
      "attachments": {},
      "cell_type": "markdown",
      "metadata": {},
      "source": [
        "**Model Intepretation**\n",
        "\n",
        "* .....\n",
        "* .....\n",
        "* .....\n",
        "\n",
        "**Model Limitation**\n",
        "\n",
        "* .....\n",
        "* .....\n",
        "* .....\n"
      ]
    },
    {
      "attachments": {},
      "cell_type": "markdown",
      "metadata": {
        "id": "owQjtcI2k-Be"
      },
      "source": [
        "### `Conclusion`"
      ]
    },
    {
      "attachments": {},
      "cell_type": "markdown",
      "metadata": {
        "id": "5GSM-ypZk-Be"
      },
      "source": [
        "Beberapa hal yang dapat disimpulkan yaitu:\n",
        "\n",
        "* ....\n",
        "* ....\n",
        "* ...."
      ]
    },
    {
      "attachments": {},
      "cell_type": "markdown",
      "metadata": {
        "id": "UYNCk1Tvk-Be"
      },
      "source": [
        "### `Recommendations`"
      ]
    },
    {
      "attachments": {},
      "cell_type": "markdown",
      "metadata": {
        "id": "ghhnOuYyk-Bf"
      },
      "source": [
        "Hal yang dapat dilakukan untuk mengembangkan model agar lebih baik lagi, seperti:\n",
        "\n",
        "* ....\n",
        "* ....\n",
        "* ...."
      ]
    }
  ],
  "metadata": {
    "colab": {
      "provenance": []
    },
    "kernelspec": {
      "display_name": "Python 3.9.7 ('base')",
      "language": "python",
      "name": "python3"
    },
    "language_info": {
      "codemirror_mode": {
        "name": "ipython",
        "version": 3
      },
      "file_extension": ".py",
      "mimetype": "text/x-python",
      "name": "python",
      "nbconvert_exporter": "python",
      "pygments_lexer": "ipython3",
      "version": "3.9.13"
    },
    "orig_nbformat": 4,
    "vscode": {
      "interpreter": {
        "hash": "29a3ec0ddefdaff5f4d200ee8547790884c916059fa289fc41554aaeec66bbeb"
      }
    }
  },
  "nbformat": 4,
  "nbformat_minor": 0
}
